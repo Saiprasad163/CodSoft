{
 "cells": [
  {
   "cell_type": "code",
   "execution_count": 15,
   "id": "b8281886",
   "metadata": {},
   "outputs": [
    {
     "name": "stdout",
     "output_type": "stream",
     "text": [
      "Accuracy: 0.97\n",
      "Classification Report:\n",
      "               precision    recall  f1-score   support\n",
      "\n",
      "           0       0.97      1.00      0.98       965\n",
      "           1       0.98      0.81      0.89       150\n",
      "\n",
      "    accuracy                           0.97      1115\n",
      "   macro avg       0.98      0.90      0.94      1115\n",
      "weighted avg       0.97      0.97      0.97      1115\n",
      "\n"
     ]
    }
   ],
   "source": [
    "import pandas as pd\n",
    "from sklearn.model_selection import train_test_split\n",
    "from sklearn.feature_extraction.text import TfidfVectorizer\n",
    "from sklearn.linear_model import LogisticRegression\n",
    "from sklearn.metrics import accuracy_score, classification_report\n",
    "\n",
    "# Load your SMS dataset with the specified encoding\n",
    "data = pd.read_csv(\"C:\\\\Users\\\\HP\\\\Downloads\\\\archive (3)\\\\spam.csv\", encoding='latin1')\n",
    "\n",
    "# Assuming 'v1' contains labels and 'v2' contains SMS messages\n",
    "# Rename 'v1' and 'v2' columns to 'label' and 'text' for clarity\n",
    "data.rename(columns={'v1': 'label', 'v2': 'text'}, inplace=True)\n",
    "\n",
    "# Encode labels as 0 for 'ham' and 1 for 'spam'\n",
    "data['label'] = data['label'].map({'ham': 0, 'spam': 1})\n",
    "\n",
    "# Split the data into training and testing sets\n",
    "X = data['text']\n",
    "y = data['label']\n",
    "X_train, X_test, y_train, y_test = train_test_split(X, y, test_size=0.2, random_state=42)\n",
    "\n",
    "# TF-IDF Vectorization\n",
    "tfidf_vectorizer = TfidfVectorizer(max_features=1000)  # Adjust max_features as needed\n",
    "X_train_tfidf = tfidf_vectorizer.fit_transform(X_train)\n",
    "X_test_tfidf = tfidf_vectorizer.transform(X_test)\n",
    "\n",
    "# Build and train a Logistic Regression model\n",
    "classifier = LogisticRegression()\n",
    "classifier.fit(X_train_tfidf, y_train)\n",
    "\n",
    "# Make predictions\n",
    "y_pred = classifier.predict(X_test_tfidf)\n",
    "\n",
    "# Evaluate the model\n",
    "accuracy = accuracy_score(y_test, y_pred)\n",
    "report = classification_report(y_test, y_pred)\n",
    "\n",
    "print(f\"Accuracy: {accuracy:.2f}\")\n",
    "print(\"Classification Report:\\n\", report)\n"
   ]
  },
  {
   "cell_type": "code",
   "execution_count": 17,
   "id": "221088f2",
   "metadata": {},
   "outputs": [
    {
     "name": "stdout",
     "output_type": "stream",
     "text": [
      "The message is predicted as: spam\n"
     ]
    }
   ],
   "source": [
    "# Function to predict whether a message is spam or ham\n",
    "def predict_message(message):\n",
    "    # Preprocess the input message\n",
    "    message_tfidf = tfidf_vectorizer.transform([message])\n",
    "    \n",
    "    # Make the prediction\n",
    "    prediction = classifier.predict(message_tfidf)[0]\n",
    "    \n",
    "    # Convert prediction to human-readable label\n",
    "    label = 'spam' if prediction == 1 else 'ham'\n",
    "    \n",
    "    return label\n",
    "\n",
    "# Example usage:\n",
    "input_message = \"Free iPhone now! Click to claim.\"\n",
    "predicted_label = predict_message(input_message)\n",
    "print(f\"The message is predicted as: {predicted_label}\")\n"
   ]
  },
  {
   "cell_type": "code",
   "execution_count": 19,
   "id": "f7ba126a",
   "metadata": {},
   "outputs": [
    {
     "name": "stdout",
     "output_type": "stream",
     "text": [
      "The message is predicted as: ham\n"
     ]
    }
   ],
   "source": [
    "# Example usage:\n",
    "input_message = \"Go until jurong point, crazy.. Available only in bugis n great world la e buffet... Cine there got amore wat...\"\n",
    "predicted_label = predict_message(input_message)\n",
    "print(f\"The message is predicted as: {predicted_label}\")\n"
   ]
  },
  {
   "cell_type": "code",
   "execution_count": null,
   "id": "8f89a0bb",
   "metadata": {},
   "outputs": [],
   "source": []
  }
 ],
 "metadata": {
  "kernelspec": {
   "display_name": "Python 3 (ipykernel)",
   "language": "python",
   "name": "python3"
  },
  "language_info": {
   "codemirror_mode": {
    "name": "ipython",
    "version": 3
   },
   "file_extension": ".py",
   "mimetype": "text/x-python",
   "name": "python",
   "nbconvert_exporter": "python",
   "pygments_lexer": "ipython3",
   "version": "3.10.9"
  }
 },
 "nbformat": 4,
 "nbformat_minor": 5
}
